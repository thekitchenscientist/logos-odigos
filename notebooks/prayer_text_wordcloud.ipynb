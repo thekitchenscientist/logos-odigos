{
 "cells": [
  {
   "cell_type": "code",
   "execution_count": 5,
   "id": "03bfff3a-a9a3-4a90-b22b-dedca2b17fbf",
   "metadata": {},
   "outputs": [],
   "source": [
    "from wordcloud import WordCloud, get_single_color_func, STOPWORDS\n",
    "import plotly.express as px\n",
    "from PIL import Image\n",
    "import numpy as np\n",
    "import os\n",
    "\n",
    "class SimpleGroupedColorFunc(object):\n",
    "    \"\"\"Create a color function object which assigns EXACT colors\n",
    "       to certain words based on the color to words mapping\n",
    "\n",
    "       Parameters\n",
    "       ----------\n",
    "       color_to_words : dict(str -> list(str))\n",
    "         A dictionary that maps a color to the list of words.\n",
    "\n",
    "       default_color : str\n",
    "         Color that will be assigned to a word that's not a member\n",
    "         of any value from color_to_words.\n",
    "    \"\"\"\n",
    "\n",
    "    def __init__(self, color_to_words, default_color):\n",
    "        self.word_to_color = {word: color\n",
    "                              for (color, words) in color_to_words.items()\n",
    "                              for word in words}\n",
    "\n",
    "        self.default_color = default_color\n",
    "\n",
    "    def __call__(self, word, **kwargs):\n",
    "        return self.word_to_color.get(word, self.default_color)\n",
    "\n",
    "\n",
    "class GroupedColorFunc(object):\n",
    "    \"\"\"Create a color function object which assigns DIFFERENT SHADES of\n",
    "       specified colors to certain words based on the color to words mapping.\n",
    "\n",
    "       Uses wordcloud.get_single_color_func\n",
    "\n",
    "       Parameters\n",
    "       ----------\n",
    "       color_to_words : dict(str -> list(str))\n",
    "         A dictionary that maps a color to the list of words.\n",
    "\n",
    "       default_color : str\n",
    "         Color that will be assigned to a word that's not a member\n",
    "         of any value from color_to_words.\n",
    "    \"\"\"\n",
    "\n",
    "    def __init__(self, color_to_words, default_color):\n",
    "        self.color_func_to_words = [\n",
    "            (get_single_color_func(color), set(words))\n",
    "            for (color, words) in color_to_words.items()]\n",
    "\n",
    "        self.default_color_func = get_single_color_func(default_color)\n",
    "\n",
    "    def get_color_func(self, word):\n",
    "        \"\"\"Returns a single_color_func associated with the word\"\"\"\n",
    "        try:\n",
    "            color_func = next(\n",
    "                color_func for (color_func, words) in self.color_func_to_words\n",
    "                if word in words)\n",
    "        except StopIteration:\n",
    "            color_func = self.default_color_func\n",
    "\n",
    "        return color_func\n",
    "\n",
    "    def __call__(self, word, **kwargs):\n",
    "        return self.get_color_func(word)(word, **kwargs)\n"
   ]
  },
  {
   "cell_type": "code",
   "execution_count": 6,
   "id": "70507732-ebe5-464d-8d48-9eada55e0147",
   "metadata": {},
   "outputs": [],
   "source": [
    "# Read the whole text.\n",
    "text = open('D:/LO_resources/bible_quotes_only.csv', encoding='utf-8').read()\n",
    "# read the mask image\n",
    "mask = np.array(Image.open(\"D:/LO_resources/speech_bubble_mask_white.png\"))"
   ]
  },
  {
   "cell_type": "code",
   "execution_count": 7,
   "id": "c9e0168b-be71-4604-8bc0-70f828a161dd",
   "metadata": {},
   "outputs": [
    {
     "name": "stdout",
     "output_type": "stream",
     "text": [
      "CPU times: total: 3min 5s\n",
      "Wall time: 3min 9s\n"
     ]
    },
    {
     "data": {
      "text/plain": [
       "<wordcloud.wordcloud.WordCloud at 0x1be86fdebd0>"
      ]
     },
     "execution_count": 7,
     "metadata": {},
     "output_type": "execute_result"
    }
   ],
   "source": [
    "stopwords = set(STOPWORDS)\n",
    "stopwords.add(\"will\")\n",
    "\n",
    "wc = WordCloud(width=2000,height=1000, scale=4,mask=mask,background_color=\"#000000\" )\n",
    "    #background_color=\"white\", max_words=2000, mask=mask, stopwords=stopwords, contour_width=3, contour_color='white')\n",
    "\n",
    "# generate word cloud\n",
    "wc.generate(text)\n",
    "\n",
    "\n",
    "#f8f1e5 white\n",
    "#2f3131 black\n",
    "#f0810f orange\n",
    "#426e86 blue\n",
    "#f9ba32 yellow\n",
    "color_to_words = {\n",
    "    # words below will be colored\n",
    "    '#f0810f': ['Moses','David','Abraham','Israelites'],\n",
    "    '#426e86': ['Israel','Jerusalem','Egypt'],\n",
    "    '#f9ba32': ['O God','LORD','Christ', 'Lord', 'God', 'GOD','Jesus Christ', 'Lord Jesus', 'Jesus','O LORD', 'Lord GOD']\n",
    "}\n",
    "\n",
    "# Words that are not in any of the color_to_words values\n",
    "# will be colored with a single color function\n",
    "default_color = '#ffffff' #'#f8f1e5'\n",
    "\n",
    "# Create a color function with multiple tones\n",
    "grouped_color_func = GroupedColorFunc(color_to_words, default_color)\n",
    "\n",
    "# Apply our color function\n",
    "wc.recolor(color_func=grouped_color_func)"
   ]
  },
  {
   "cell_type": "code",
   "execution_count": null,
   "id": "d29db942-dc72-4b7d-8960-68175c3a2f48",
   "metadata": {},
   "outputs": [],
   "source": [
    "# show\n",
    "import plotly.express as px\n",
    "fig = px.imshow(wc)\n",
    "fig.update_layout(coloraxis_showscale=False)\n",
    "fig.update_xaxes(showticklabels=False)\n",
    "fig.update_yaxes(showticklabels=False)\n",
    "fig.show()"
   ]
  },
  {
   "cell_type": "code",
   "execution_count": 8,
   "id": "89777cf5-e5c1-4c05-af92-933d08fc32d7",
   "metadata": {},
   "outputs": [],
   "source": [
    "# Export as PNG\n",
    "image = wc.to_image()\n",
    "image.save(\"prayer_speech_bubble_custom_colours.png\",\"PNG\")"
   ]
  },
  {
   "cell_type": "code",
   "execution_count": null,
   "id": "b431ff30-1884-43fd-8fe6-322bd54bc7b0",
   "metadata": {},
   "outputs": [],
   "source": [
    "# Export as svg (changes font)\n",
    "#with open(\"Output.svg\", \"w\") as text_file:\n",
    "#    text_file.write(wc.to_svg())"
   ]
  },
  {
   "cell_type": "code",
   "execution_count": null,
   "id": "da3094e0-d309-4288-8109-5a4b341baaa1",
   "metadata": {},
   "outputs": [],
   "source": []
  }
 ],
 "metadata": {
  "kernelspec": {
   "display_name": "Python 3 (ipykernel)",
   "language": "python",
   "name": "python3"
  },
  "language_info": {
   "codemirror_mode": {
    "name": "ipython",
    "version": 3
   },
   "file_extension": ".py",
   "mimetype": "text/x-python",
   "name": "python",
   "nbconvert_exporter": "python",
   "pygments_lexer": "ipython3",
   "version": "3.11.5"
  }
 },
 "nbformat": 4,
 "nbformat_minor": 5
}
